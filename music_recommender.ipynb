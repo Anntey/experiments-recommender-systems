{
 "cells": [
  {
   "cell_type": "markdown",
   "metadata": {},
   "source": [
    "## Libraries"
   ]
  },
  {
   "cell_type": "code",
   "execution_count": 6,
   "metadata": {},
   "outputs": [],
   "source": [
    "import os\n",
    "import json\n",
    "import gensim\n",
    "import sqlite3\n",
    "import spotipy\n",
    "import numpy as np\n",
    "from tqdm import tqdm\n",
    "from dotenv import load_dotenv\n",
    "from spotipy.client import SpotifyException"
   ]
  },
  {
   "cell_type": "markdown",
   "metadata": {},
   "source": [
    "## Authenticate with spotipy"
   ]
  },
  {
   "cell_type": "code",
   "execution_count": null,
   "metadata": {},
   "outputs": [],
   "source": [
    "load_dotenv()\n",
    "\n",
    "uri = 'http://127.0.0.1:8000/callback'\n",
    "\n",
    "def authenticate():\n",
    "    token = spotipy.util.prompt_for_user_token(\n",
    "        username = os.getenv('USER_ID'),\n",
    "        scope = '',\n",
    "        client_id = os.getenv('CLIENT_ID'),\n",
    "        client_secret = os.getenv('CLIENT_SECRET'),\n",
    "        redirect_uri = uri\n",
    "    )\n",
    "    session = spotipy.Spotify(auth = token)\n",
    "    return session\n",
    "    \n",
    "session = authenticate()"
   ]
  },
  {
   "cell_type": "markdown",
   "metadata": {},
   "source": [
    "## Fetch playlists including specific search terms"
   ]
  },
  {
   "cell_type": "code",
   "execution_count": null,
   "metadata": {},
   "outputs": [],
   "source": [
    "playlists = {}\n",
    "query_words = [\n",
    "    'in', 'for', 'me', 'my', 'soundtrack', 'on', 'all', 'it', 'dance', 'mix',\n",
    "    'the', 'hits', 'indie', 'songs', 'music', 'this', 'to', 'in', 'love', 'party',\n",
    "    'your', 'classics', 'music', 'pop', 'one', 'forever', 'best', 'rock', 'ultimate'\n",
    "]\n",
    "\n",
    "# for each query term\n",
    "for word in tqdm(query_words):\n",
    "    num_per_req = 50\n",
    "    offsets = range(0, 1_000, num_per_req)\n",
    "    # fetch 1 000 playlists in chunks on 50\n",
    "    for _, i_start in enumerate(offsets):\n",
    "        response = session.search(word, limit = num_per_req, offset = i_start, type = 'playlist')\n",
    "        # for each playlist in each response\n",
    "        for _, pl in enumerate(response['playlists']['items']):\n",
    "            # check if already added\n",
    "            if pl['id'] in playlists:\n",
    "                continue\n",
    "            # add new ones as a dict \n",
    "            elif pl['name'] and pl['owner']:\n",
    "                playlists[pl['id']] = {\n",
    "                    'owner': pl['owner']['id'],\n",
    "                    'name': pl['name'],\n",
    "                    'id': pl['id'],\n",
    "                }"
   ]
  },
  {
   "cell_type": "code",
   "execution_count": 4,
   "metadata": {},
   "outputs": [
    {
     "name": "stdout",
     "output_type": "stream",
     "text": [
      "Found 22197 playlists\n"
     ]
    }
   ],
   "source": [
    "print(f'Found {len(playlists)} playlists')"
   ]
  },
  {
   "cell_type": "markdown",
   "metadata": {},
   "source": [
    "## Fetch lists of songs for playlists"
   ]
  },
  {
   "cell_type": "code",
   "execution_count": 8,
   "metadata": {},
   "outputs": [],
   "source": [
    "def fetch_songs(playlist):\n",
    "    response = session.user_playlist_tracks(\n",
    "        playlist['owner'],\n",
    "        playlist['id'],\n",
    "        fields = 'items(track(id, name, artists(name, id), duration_ms)),next'\n",
    "    )\n",
    "    return response"
   ]
  },
  {
   "cell_type": "code",
   "execution_count": null,
   "metadata": {},
   "outputs": [],
   "source": [
    "# remove previous db file\n",
    "if os.path.isfile('./data/songs.db'):\n",
    "    os.remove('./data/songs.db')\n",
    "\n",
    "# create connection and cursor to sql db\n",
    "conn = sqlite3.connect('./data/songs.db')\n",
    "cursor = conn.cursor()\n",
    "\n",
    "# initialize db\n",
    "cursor.execute('CREATE TABLE songs (id text primary key, name text, artist text)')\n",
    "cursor.execute('CREATE INDEX name_idx on songs(name)')\n",
    "\n",
    "# keep track of ids in db efficiently\n",
    "tracks_in_db = set()\n",
    "# this is for word2vec later, a list of id lists\n",
    "all_ids = []\n",
    "\n",
    "# for each playlist dict\n",
    "for pl in tqdm(playlists.values()):\n",
    "    # fetch tracks in playlist with spotipy\n",
    "    try:\n",
    "        response = fetch_songs(pl)\n",
    "    # re-authenticate if authentication expires\n",
    "    except:\n",
    "        session = authenticate()\n",
    "        response = fetch_songs(pl)\n",
    "    # keep a list of ids in current playlist\n",
    "    pl_ids = []\n",
    "    # for each track\n",
    "    for item in response['items']:\n",
    "        track = item['track']\n",
    "        # skip if none type\n",
    "        if not track:\n",
    "            continue\n",
    "        track_id = track['id']\n",
    "        # add the new ones to the db\n",
    "        if track_id:\n",
    "            # append current id to list\n",
    "            pl_ids.append(track_id)\n",
    "            # if new, add to db\n",
    "            if track_id not in tracks_in_db:\n",
    "                # execute insert query\n",
    "                cursor.execute(\n",
    "                    'INSERT INTO songs VALUES (?, ?, ?)',\n",
    "                    (track['id'], track['name'], track['artists'][0]['name'])\n",
    "                )\n",
    "                # update lookup set\n",
    "                tracks_in_db.add(track_id)\n",
    "        else:\n",
    "            continue\n",
    "        # commit db changes\n",
    "        conn.commit()\n",
    "    # update list of id lists with current playlist ids\n",
    "    all_ids.append(pl_ids)\n",
    "# close db connection\n",
    "conn.close()"
   ]
  },
  {
   "cell_type": "code",
   "execution_count": 36,
   "metadata": {},
   "outputs": [
    {
     "name": "stdout",
     "output_type": "stream",
     "text": [
      "The playlists contain 1481283 songs in total of which 655739 are unique\n"
     ]
    }
   ],
   "source": [
    "print(f'The playlists contain {np.sum([len(pl) for pl in all_ids])} songs in total of which {len(tracks_in_db)} are unique')"
   ]
  },
  {
   "cell_type": "markdown",
   "metadata": {},
   "source": [
    "## Train word2vec model on song ids present in playlists"
   ]
  },
  {
   "cell_type": "code",
   "execution_count": null,
   "metadata": {},
   "outputs": [],
   "source": [
    "class SongIdCorpus(object):\n",
    "    '''An iterator class for word2vec that yields lists of song ids'''\n",
    "    def __init__(self, pl_list):\n",
    "        self.pl_list = pl_list\n",
    "    \n",
    "    def __iter__(self):\n",
    "        # for each playlist\n",
    "        for pl_ids in self.pl_list:\n",
    "            # return list of ids in playlist\n",
    "            yield pl_ids\n",
    "\n",
    "id_corpus = SongIdCorpus(all_ids)\n",
    "\n",
    "w2v_model = gensim.models.Word2Vec(min_count = 3)\n",
    "\n",
    "w2v_model.build_vocab(sentences = id_corpus)\n",
    "\n",
    "w2v_model.train(sentences = id_corpus, total_examples = w2v_model.corpus_count, epochs = 10)\n",
    "\n",
    "w2v_model.save('./models/songs.word2vec')"
   ]
  },
  {
   "cell_type": "code",
   "execution_count": 72,
   "metadata": {},
   "outputs": [
    {
     "name": "stdout",
     "output_type": "stream",
     "text": [
      "The vocabulary containts 99445 songs\n"
     ]
    }
   ],
   "source": [
    "print(f'The vocabulary containts {len(w2v_model.wv.vocab)} songs')"
   ]
  },
  {
   "cell_type": "markdown",
   "metadata": {},
   "source": [
    "## Evaluate embeddings"
   ]
  },
  {
   "cell_type": "code",
   "execution_count": 136,
   "metadata": {},
   "outputs": [],
   "source": [
    "def search_song(connection, model, song_name, limit):\n",
    "    '''Returns the best matches according to the query term'''\n",
    "    cursor = connection.cursor()\n",
    "    # finds any values that have `song name` in any position\n",
    "    cursor.execute(f\"SELECT * FROM songs WHERE UPPER(name) LIKE '%{song_name}%'\")\n",
    "    res = cursor.fetchall()\n",
    "    # each item is a tuple to which the count (from vocab) is appended to\n",
    "    res_counted = (\n",
    "        item + (model.wv.vocab[item[0]].count, )\n",
    "        for item in res\n",
    "        if item[0] in model.wv.vocab\n",
    "    )\n",
    "    # sort by count\n",
    "    res_sorted = sorted(res_counted, key = lambda item: item[-1], reverse = True)\n",
    "    # return items up to a count specified by the limit\n",
    "    res_top = [*res_sorted][:limit]\n",
    "    return res_top\n",
    "\n",
    "def suggest_songs(connection, model, song_id):\n",
    "    '''Returns the most similar songs'''\n",
    "    cursor = connection.cursor()\n",
    "    # get the 10 most similar songs ids and similarities for the query id\n",
    "    similar = model.wv.most_similar([song_id])\n",
    "    similar_dict = dict(similar)\n",
    "    similar = [f\"'{song_id}'\" for (song_id, sim) in similar]\n",
    "    # query the database for the song names with those ids\n",
    "    query_ids = ', '.join(similar)\n",
    "    cursor.execute(f\"SELECT * FROM songs WHERE id in ({query_ids})\")\n",
    "    res = cursor.fetchall()\n",
    "    # each item is a tuple to which the similarity is appended to\n",
    "    res_sims = (item + (similar_dict[item[0]], ) for item in res)\n",
    "    # sort by similarity\n",
    "    res_sorted = sorted(res_sims, key = lambda item: item[-1], reverse = True)\n",
    "    res_sorted = [*res_sorted]\n",
    "    return res_sorted"
   ]
  },
  {
   "cell_type": "code",
   "execution_count": 138,
   "metadata": {},
   "outputs": [
    {
     "name": "stdout",
     "output_type": "stream",
     "text": [
      "57RA3JGafJm5zRtKJiKPIm Are You Bored Yet? (feat. Clairo) Wallows 166\n",
      "6lV2MSQmRIkycDScNtrBXO Airplanes (feat. Hayley Williams) B.o.B 141\n",
      "5CQ30WqJwcep0pYcV4AMNc Stairway to Heaven - Remaster Led Zeppelin 126\n",
      "7sO5G9EABYOXQKNPNiE9NR Ric Flair Drip (& Metro Boomin) Offset 88\n",
      "18AXbzPzBS8Y3AkgSxzJPb In The Air Tonight - 2015 Remastered Phil Collins 86\n",
      "2qPUnoasNe4Ep43emVXEig Billionaire (feat. Bruno Mars) Travie McCoy 79\n",
      "51pQ7vY7WXzxskwloaeqyj Stairway to Heaven - 1990 Remaster Led Zeppelin 75\n",
      "2M9ULmQwTaTGmAdXaXpfz5 Billionaire (feat. Bruno Mars) Travie McCoy 73\n",
      "7Dbg5O9nNWu6SWxDjJ9qoq In The Air Tonight Phil Collins 57\n",
      "4kfeRwpq5KUaqTkgi4TbDF Solitaires (feat. Travis Scott) Future 56\n"
     ]
    }
   ],
   "source": [
    "# create connection and cursor to sql db\n",
    "conn = sqlite3.connect('./data/songs.db')\n",
    "\n",
    "for song in search_song(conn, w2v_model, 'air', 10):\n",
    "    print(*song)"
   ]
  },
  {
   "cell_type": "code",
   "execution_count": 137,
   "metadata": {},
   "outputs": [
    {
     "name": "stdout",
     "output_type": "stream",
     "text": [
      "3FCto7hnn1shUyZL42YgfO Piano Man Billy Joel 0.9999197721481323\n",
      "3v8PlUFGQQDBIk1J86waCo Should I Stay or Should I Go - Remastered The Clash 0.9998630285263062\n",
      "0qRR9d89hIS0MHRkQ0ejxX Rich Girl Daryl Hall & John Oates 0.9998554587364197\n",
      "6dGnYIeXmHdcikdzNNDMm2 Here Comes The Sun - Remastered 2009 The Beatles 0.9998552799224854\n",
      "2DyHhPyCZgZzNXn1IrtsTu Any Way You Want It Journey 0.999847412109375\n",
      "7f0jXNMu2xjQUtmKMuWhGA What's Up? 4 Non Blondes 0.9998024702072144\n",
      "74EV0g12ihUoOUXMprFpZB Losing My Religion R.E.M. 0.9997856616973877\n",
      "0LN0ASTtcGIbNTnjSHG6eO Pour Some Sugar On Me (2012) Def Leppard 0.9997833371162415\n",
      "5dRQUolXAVX3BbCiIxmSsf Your Love The Outfield 0.9997764229774475\n",
      "0aym2LBJBk9DAYuHHutrIl Hey Jude - Remastered 2015 The Beatles 0.9997748136520386\n"
     ]
    }
   ],
   "source": [
    "# Elton John - Tiny Dancer\n",
    "for t in suggest_songs(conn, w2v_model, '2TVxnKdb3tqe1nhQWwwZCO'):\n",
    "    print(*t)"
   ]
  },
  {
   "cell_type": "code",
   "execution_count": 83,
   "metadata": {},
   "outputs": [
    {
     "name": "stdout",
     "output_type": "stream",
     "text": [
      "7MRyJPksH3G2cXHN8UKYzP American Girl Tom Petty and the Heartbreakers 0.9999043941497803\n",
      "6NxsCnLeLd8Ai1TrgGxzIx Bad Moon Rising Creedence Clearwater Revival 0.9998791217803955\n",
      "2vX5WL7s6UdeQyweZEx7PP Walk This Way Aerosmith 0.9998680353164673\n",
      "37Tmv4NnfQeb0ZgUC4fOJj Sultans Of Swing Dire Straits 0.9998409748077393\n",
      "3vV3cr2TpPqFk07zxYUbla Cum on Feel the Noize Quiet Riot 0.9997990131378174\n",
      "0vOkmmJEtjuFZDzrQSFzEE Hit Me With Your Best Shot Pat Benatar 0.9997983574867249\n",
      "0GTK6TesV108Jj5D3MHsYb Owner of a Lonely Heart Yes 0.9997979998588562\n",
      "0LN0ASTtcGIbNTnjSHG6eO Pour Some Sugar On Me (2012) Def Leppard 0.9997971057891846\n",
      "0FeCO85RKW8fDRytwXof2x Go Your Own Way Fleetwood Mac 0.9997912645339966\n",
      "3qT4bUD1MaWpGrTwcvguhb Black Dog - Remaster Led Zeppelin 0.9997897744178772\n"
     ]
    }
   ],
   "source": [
    "# Led Zeppelin - Stairway to Heaven \n",
    "for t in suggest_songs(conn, w2v_model, 10, '51pQ7vY7WXzxskwloaeqyj'):\n",
    "    print(*t)"
   ]
  },
  {
   "cell_type": "code",
   "execution_count": 139,
   "metadata": {},
   "outputs": [],
   "source": [
    "conn.close()"
   ]
  }
 ],
 "metadata": {
  "kernelspec": {
   "display_name": "Python 3",
   "language": "python",
   "name": "python3"
  },
  "language_info": {
   "codemirror_mode": {
    "name": "ipython",
    "version": 3
   },
   "file_extension": ".py",
   "mimetype": "text/x-python",
   "name": "python",
   "nbconvert_exporter": "python",
   "pygments_lexer": "ipython3",
   "version": "3.8.5"
  }
 },
 "nbformat": 4,
 "nbformat_minor": 4
}
