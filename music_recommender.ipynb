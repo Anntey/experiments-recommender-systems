{
 "cells": [
  {
   "cell_type": "code",
   "execution_count": 84,
   "metadata": {},
   "outputs": [],
   "source": [
    "import spotipy\n",
    "from spotipy import util\n",
    "from spotipy.client import SpotifyException\n",
    "from collections import Counter\n",
    "from gensim.utils import tokenize\n",
    "import time\n",
    "from tqdm import tqdm\n",
    "import json\n",
    "import os\n",
    "\n",
    "from dotenv import load_dotenv"
   ]
  },
  {
   "cell_type": "code",
   "execution_count": 4,
   "metadata": {},
   "outputs": [],
   "source": [
    "load_dotenv()\n",
    "\n",
    "CLIENT_ID = os.getenv('CLIENT_ID')\n",
    "CLIENT_SECRET = os.getenv('CLIENT_SECRET')\n",
    "USER_ID = os.getenv('USER_ID')"
   ]
  },
  {
   "cell_type": "code",
   "execution_count": 96,
   "metadata": {},
   "outputs": [],
   "source": [
    "uri = 'http://127.0.0.1:8000/callback'\n",
    "\n",
    "token = util.prompt_for_user_token(\n",
    "    username = USER_ID,\n",
    "    scope = '',\n",
    "    client_id=CLIENT_ID,\n",
    "    client_secret=CLIENT_SECRET,\n",
    "    redirect_uri=uri\n",
    ")\n",
    "\n",
    "session = spotipy.Spotify(auth = token)"
   ]
  },
  {
   "cell_type": "code",
   "execution_count": 112,
   "metadata": {},
   "outputs": [],
   "source": [
    "def find_playlists(session, w, max_count=5000):\n",
    "    try:\n",
    "        # spotipy has some weird bug and doesn't actually apply these given parameters which results in 404s\n",
    "        res = session.search(w, limit = 10, type = 'playlist')#, offset = 10)\n",
    "        while res:\n",
    "            for playlist in res['playlists']['items']:\n",
    "                yield playlist\n",
    "                max_count -= 1\n",
    "                if max_count == 0:\n",
    "                    raise StopIteration\n",
    "            tries = 3\n",
    "            while tries > 0:\n",
    "                try:\n",
    "                    res = session.next(res['playlists'])\n",
    "                    tries = 0\n",
    "                except SpotifyException as e:\n",
    "                    tries -= 1\n",
    "                    time.sleep(0.2)\n",
    "                    if tries == 0:\n",
    "                        raise\n",
    "    except SpotifyException as e:\n",
    "        status = e.http_status\n",
    "        if status == 404:\n",
    "            raise StopIteration\n",
    "        raise"
   ]
  },
  {
   "cell_type": "code",
   "execution_count": 113,
   "metadata": {},
   "outputs": [
    {
     "data": {
      "text/plain": [
       "{'collaborative': False,\n",
       " 'description': 'Time for Your Summer Rewind! We’ve made you a new playlist featuring your old summer favorites.',\n",
       " 'external_urls': {'spotify': 'https://open.spotify.com/playlist/37i9dQZF1CAoNRs6uvbZB5'},\n",
       " 'href': 'https://api.spotify.com/v1/playlists/37i9dQZF1CAoNRs6uvbZB5',\n",
       " 'id': '37i9dQZF1CAoNRs6uvbZB5',\n",
       " 'images': [{'height': None,\n",
       "   'url': 'https://lineup-images.scdn.co/summer-rewind-2020_LARGE-en.jpg',\n",
       "   'width': None}],\n",
       " 'name': 'Your Summer Rewind',\n",
       " 'owner': {'display_name': 'Spotify',\n",
       "  'external_urls': {'spotify': 'https://open.spotify.com/user/spotify'},\n",
       "  'href': 'https://api.spotify.com/v1/users/spotify',\n",
       "  'id': 'spotify',\n",
       "  'type': 'user',\n",
       "  'uri': 'spotify:user:spotify'},\n",
       " 'primary_color': None,\n",
       " 'public': None,\n",
       " 'snapshot_id': 'MjY1NDgyMTksMDAwMDAwMDA5ODMxYWRhNjEyNjc5YzRiNzkxZDMzMzc3YzczN2Y5OQ==',\n",
       " 'tracks': {'href': 'https://api.spotify.com/v1/playlists/37i9dQZF1CAoNRs6uvbZB5/tracks',\n",
       "  'total': 50},\n",
       " 'type': 'playlist',\n",
       " 'uri': 'spotify:playlist:37i9dQZF1CAoNRs6uvbZB5'}"
      ]
     },
     "execution_count": 113,
     "metadata": {},
     "output_type": "execute_result"
    }
   ],
   "source": [
    "for pl in find_playlists(session, 'summer'):\n",
    "    break\n",
    "\n",
    "pl"
   ]
  },
  {
   "cell_type": "code",
   "execution_count": 114,
   "metadata": {},
   "outputs": [],
   "source": [
    "word_counts = Counter({'a': 1})\n",
    "words_seen = set()\n",
    "playlists_found = {}"
   ]
  },
  {
   "cell_type": "code",
   "execution_count": null,
   "metadata": {},
   "outputs": [],
   "source": [
    "while len(playlists_found) < 1_000:\n",
    "    for word, _ in word_counts.most_common():\n",
    "        if word not in words_seen:\n",
    "            words_seen.add(word)\n",
    "            print('word>', word)\n",
    "            for playlist in find_playlists(session, word):\n",
    "                if playlist['id'] in playlists:\n",
    "                    continue\n",
    "                elif playlist['name'] and playlist['owner']:\n",
    "                    playlists_found[playlist['id']] = {\n",
    "                        'owner': playlist['owner']['id'],\n",
    "                        'name': playlist['name'],\n",
    "                        'id': playlist['id'],\n",
    "                    }\n",
    "                    for token in tokenize(playlist['name'], lowercase = True):\n",
    "                        word_counts[token] += 1\n",
    "            break"
   ]
  },
  {
   "cell_type": "code",
   "execution_count": 100,
   "metadata": {},
   "outputs": [],
   "source": [
    "def track_yielder(session, playlist):\n",
    "    res = session.user_playlist_tracks(\n",
    "        playlist['owner'],\n",
    "        playlist['id'],\n",
    "        fields = 'items(track(id, name, artists(name, id), duration_ms)),next'\n",
    "    )\n",
    "    while res:\n",
    "        for track in res['items']:\n",
    "            if track['track']:\n",
    "                yield track['track']\n",
    "        tries = 3\n",
    "        while tries > 0:\n",
    "            try:\n",
    "                res = session.next(res)\n",
    "                if not res or not res.get('items'):\n",
    "                    raise StopIteration\n",
    "                tries = 0\n",
    "            except SpotifyException as e:\n",
    "                if 400 <= e.http_status <= 499:\n",
    "                    raise StopIteration\n",
    "                tries -= 1\n",
    "                time.sleep(1)\n",
    "                if tries == 0:\n",
    "                    raise e"
   ]
  },
  {
   "cell_type": "code",
   "execution_count": 101,
   "metadata": {},
   "outputs": [],
   "source": [
    "import sqlite3"
   ]
  },
  {
   "cell_type": "code",
   "execution_count": null,
   "metadata": {},
   "outputs": [],
   "source": [
    "if os.path.isfile('data/songs.db'):\n",
    "    os.remove('data/songs.db')\n",
    "    \n",
    "conn = sqlite3.connect('data/songs.db')\n",
    "cursor = conn.cursor()\n",
    "cursor.execute('CREATE TABLE songs (id text primary key, name text, artist text)')\n",
    "cursor.execute('CREATE INDEX name_idx on songs(name)')\n",
    "\n",
    "tracks_seen = set()\n",
    "with open('data/playlists.ndjson', 'w') as fout_playlists:\n",
    "    with open('data/songs_ids.txt', 'w') as fout_song_ids:\n",
    "        for playlist in tqdm(playlists_found.values()):\n",
    "            fout_playlists.write(json.dumps(playlist) + '\\n')\n",
    "            track_ids = []\n",
    "            for track in track_yielder(session, playlist):\n",
    "                track_id = track['id']\n",
    "                if not track_id:\n",
    "                    continue\n",
    "                if not track_id in tracks_seen:\n",
    "                    cursor.execute(\"INSERT INTO songs VALUES (?, ?, ?)\", \n",
    "                              (track['id'], track['name'], track['artists'][0]['name']))\n",
    "                track_ids.append(track_id)\n",
    "            fout_song_ids.write(' '.join(track_ids) + '\\n')\n",
    "            conn.commit()\n",
    "conn.commit()"
   ]
  },
  {
   "cell_type": "markdown",
   "metadata": {},
   "source": [
    "## Create embeddings with word2vec"
   ]
  },
  {
   "cell_type": "code",
   "execution_count": null,
   "metadata": {},
   "outputs": [],
   "source": [
    "from operator import itemgetter"
   ]
  },
  {
   "cell_type": "code",
   "execution_count": null,
   "metadata": {},
   "outputs": [],
   "source": [
    "class WordSplitter(object):\n",
    "    def __init__(self, filename):\n",
    "        self.filename = filename\n",
    " \n",
    "    def __iter__(self):\n",
    "        with open(self.filename) as fin:\n",
    "            for line in fin:\n",
    "                yield line.split()\n",
    "\n",
    "model = gensim.models.Word2Vec(model_input, min_count=4)"
   ]
  },
  {
   "cell_type": "code",
   "execution_count": null,
   "metadata": {},
   "outputs": [],
   "source": [
    "model.save(open('zoo/15/songs.word2vec', 'wb'))\n"
   ]
  },
  {
   "cell_type": "code",
   "execution_count": null,
   "metadata": {},
   "outputs": [],
   "source": [
    "conn = sqlite3.connect('data/songs.db')\n",
    "def find_song(song_name, limit=10):\n",
    "    c = conn.cursor()\n",
    "    c.execute(\"SELECT * FROM songs WHERE UPPER(name) LIKE '%\" + song_name + \"%'\")\n",
    "    res = sorted((x + (model.wv.vocab[x[0]].count,) \n",
    "                  for x in c.fetchall() if x[0] in model.wv.vocab),\n",
    "                 key=itemgetter(-1), reverse=True)\n",
    "    return [*res][:limit]\n",
    "\n",
    "for t in find_song('the eye of the tiger'):\n",
    "    print(*t)"
   ]
  },
  {
   "cell_type": "code",
   "execution_count": null,
   "metadata": {},
   "outputs": [],
   "source": [
    "def suggest_songs(song_id):\n",
    "    c = conn.cursor()\n",
    "    similar = dict(model.most_similar([song_id]))\n",
    "    song_ids = ', '.join((\"'%s'\" % x) for x in similar.keys())\n",
    "    c.execute(\"SELECT * FROM songs WHERE id in (%s)\" % song_ids)\n",
    "    res = sorted((rec + (similar[rec[0]],) for rec in c.fetchall()), \n",
    "                 key=itemgetter(-1),\n",
    "                 reverse=True)\n",
    "    return [*res]\n",
    "\n",
    "\n",
    "for t in suggest_songs('4rr0ol3zvLiEBmep7HaHtx'):\n",
    "    print(*t)"
   ]
  }
 ],
 "metadata": {
  "kernelspec": {
   "display_name": "Python 3",
   "language": "python",
   "name": "python3"
  },
  "language_info": {
   "codemirror_mode": {
    "name": "ipython",
    "version": 3
   },
   "file_extension": ".py",
   "mimetype": "text/x-python",
   "name": "python",
   "nbconvert_exporter": "python",
   "pygments_lexer": "ipython3",
   "version": "3.8.5"
  }
 },
 "nbformat": 4,
 "nbformat_minor": 2
}
